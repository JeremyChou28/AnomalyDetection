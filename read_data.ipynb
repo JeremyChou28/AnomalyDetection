{
 "cells": [
  {
   "cell_type": "code",
   "execution_count": 1,
   "id": "71187b77",
   "metadata": {},
   "outputs": [],
   "source": [
    "import pandas as pd\n",
    "import pickle as pk\n",
    "import numpy as np"
   ]
  },
  {
   "cell_type": "code",
   "execution_count": null,
   "id": "e33ffdaf",
   "metadata": {},
   "outputs": [
    {
     "name": "stdout",
     "output_type": "stream",
     "text": [
      "   sensor_1_sensor_2_Bx  sensor_1_sensor_2_By  sensor_1_sensor_2_Bz  \\\n",
      "0            -69.447914              3.739586           -338.900883   \n",
      "1             -6.147915             -2.410411             25.067169   \n",
      "\n",
      "   sensor_1_sensor_3_Bx  sensor_1_sensor_3_By  sensor_1_sensor_3_Bz  \\\n",
      "0            -41.833329             62.462510              8.296863   \n",
      "1             -4.333331             -1.287497             31.286904   \n",
      "\n",
      "   sensor_1_sensor_4_Bx  sensor_1_sensor_4_By  sensor_1_sensor_4_Bz  \\\n",
      "0             23.862511            107.604173            400.510031   \n",
      "1             -4.187500             -0.095828             29.039996   \n",
      "\n",
      "   sensor_1_sensor_5_Bx  ...  sensor_5_sensor_8_Bz_abnormal  \\\n",
      "0            -36.020829  ...                            1.0   \n",
      "1              1.929168  ...                            1.0   \n",
      "\n",
      "   sensor_6_sensor_7_Bx_abnormal  sensor_6_sensor_7_By_abnormal  \\\n",
      "0                            1.0                            0.0   \n",
      "1                            1.0                            0.0   \n",
      "\n",
      "   sensor_6_sensor_7_Bz_abnormal  sensor_6_sensor_8_Bx_abnormal  \\\n",
      "0                            1.0                            1.0   \n",
      "1                            1.0                            1.0   \n",
      "\n",
      "   sensor_6_sensor_8_By_abnormal  sensor_6_sensor_8_Bz_abnormal  \\\n",
      "0                            1.0                            1.0   \n",
      "1                            1.0                            1.0   \n",
      "\n",
      "   sensor_7_sensor_8_Bx_abnormal  sensor_7_sensor_8_By_abnormal  \\\n",
      "0                            1.0                            1.0   \n",
      "1                            1.0                            1.0   \n",
      "\n",
      "   sensor_7_sensor_8_Bz_abnormal  \n",
      "0                            1.0  \n",
      "1                            1.0  \n",
      "\n",
      "[2 rows x 173 columns]\n"
     ]
    }
   ],
   "source": [
    "noise_dataset=pd.read_csv('./raw_data/noisedataset.csv')\n",
    "# print(noise_dataset.head(2))"
   ]
  },
  {
   "cell_type": "code",
   "execution_count": 2,
   "id": "950a4341",
   "metadata": {},
   "outputs": [
    {
     "name": "stdout",
     "output_type": "stream",
     "text": [
      "Index(['sensor_1_sensor_2_Bx', 'sensor_1_sensor_2_By', 'sensor_1_sensor_2_Bz',\n",
      "       'sensor_1_sensor_3_Bx', 'sensor_1_sensor_3_By', 'sensor_1_sensor_3_Bz',\n",
      "       'sensor_1_sensor_4_Bx', 'sensor_1_sensor_4_By', 'sensor_1_sensor_4_Bz',\n",
      "       'sensor_1_sensor_5_Bx',\n",
      "       ...\n",
      "       'sensor_5_sensor_8_Bz_abnormal', 'sensor_6_sensor_7_Bx_abnormal',\n",
      "       'sensor_6_sensor_7_By_abnormal', 'sensor_6_sensor_7_Bz_abnormal',\n",
      "       'sensor_6_sensor_8_Bx_abnormal', 'sensor_6_sensor_8_By_abnormal',\n",
      "       'sensor_6_sensor_8_Bz_abnormal', 'sensor_7_sensor_8_Bx_abnormal',\n",
      "       'sensor_7_sensor_8_By_abnormal', 'sensor_7_sensor_8_Bz_abnormal'],\n",
      "      dtype='object', length=173)\n"
     ]
    }
   ],
   "source": [
    "print(noise_dataset.columns)"
   ]
  },
  {
   "cell_type": "code",
   "execution_count": 3,
   "id": "98cef828",
   "metadata": {},
   "outputs": [
    {
     "name": "stdout",
     "output_type": "stream",
     "text": [
      "1100736\n"
     ]
    }
   ],
   "source": [
    "print(len(noise_dataset))"
   ]
  },
  {
   "cell_type": "markdown",
   "id": "e07045b5",
   "metadata": {},
   "source": [
    "观测到的x是noisedataset里面前84列数据，对应的异常标签是noisedataset里面的后84列，真实值是normalrefdata中对应目标磁铁x,y,z的数据"
   ]
  },
  {
   "cell_type": "markdown",
   "id": "d7f0a17d",
   "metadata": {},
   "source": [
    "按照7:1:2的来划分成train，valid，test。评估性能，分类性能和重建性能（MAE,MSE）"
   ]
  },
  {
   "cell_type": "code",
   "execution_count": 17,
   "id": "8a256afe",
   "metadata": {},
   "outputs": [
    {
     "name": "stdout",
     "output_type": "stream",
     "text": [
      "(1100736, 84)\n",
      "(1100736, 5)\n",
      "(1100736, 84)\n"
     ]
    }
   ],
   "source": [
    "x=noise_dataset.values[:,:84]\n",
    "x_pos=noise_dataset.values[:,84:89]\n",
    "y=noise_dataset.values[:,89:]\n",
    "print(x.shape)\n",
    "print(x_pos.shape)\n",
    "print(y.shape)"
   ]
  },
  {
   "cell_type": "code",
   "execution_count": 18,
   "id": "fa292eaa",
   "metadata": {},
   "outputs": [
    {
     "name": "stdout",
     "output_type": "stream",
     "text": [
      "[[ -69.447914      3.73958633 -338.90088296 ...  -27.62083352\n",
      "   -20.56770882 -236.74319995]\n",
      " [  -6.14791476   -2.41041138   25.06716895 ...   -4.8208338\n",
      "    -3.9177092     3.32077633]\n",
      " [ -22.04791629  -40.21041062 -157.88481546 ...   -5.7208339\n",
      "   -18.76770958  -84.52521289]\n",
      " ...\n",
      " [  -0.62842775   11.99818698   -3.65551075 ...   -1.68888266\n",
      "     7.26446036   -4.2352758 ]\n",
      " [   6.72157264    7.34818163   -0.9935101  ...    2.06111808\n",
      "     6.66445807   -2.05727821]\n",
      " [   7.32157302    4.64818469    0.45849148 ...    2.66111891\n",
      "     6.66445807   -2.29927879]]\n"
     ]
    }
   ],
   "source": [
    "print(x)"
   ]
  },
  {
   "cell_type": "code",
   "execution_count": 19,
   "id": "e34eb3b4",
   "metadata": {},
   "outputs": [
    {
     "name": "stdout",
     "output_type": "stream",
     "text": [
      "[[  0.  -4.   0.   0.   0.]\n",
      " [  2. -10.   0.   0.   0.]\n",
      " [  2.  -5.   0.   0.   0.]\n",
      " ...\n",
      " [  3. -10.  -3.   0.   0.]\n",
      " [ -1. -10.  -3.   0.   0.]\n",
      " [ -2. -10.  -3.   0.   0.]]\n"
     ]
    }
   ],
   "source": [
    "print(x_pos)"
   ]
  },
  {
   "cell_type": "code",
   "execution_count": 20,
   "id": "9780661d",
   "metadata": {},
   "outputs": [
    {
     "name": "stdout",
     "output_type": "stream",
     "text": [
      "[[1. 1. 1. ... 1. 1. 1.]\n",
      " [1. 1. 1. ... 1. 1. 1.]\n",
      " [1. 1. 1. ... 1. 1. 1.]\n",
      " ...\n",
      " [0. 0. 0. ... 0. 0. 0.]\n",
      " [0. 0. 0. ... 0. 0. 0.]\n",
      " [0. 0. 0. ... 0. 0. 0.]]\n"
     ]
    }
   ],
   "source": [
    "print(y)"
   ]
  },
  {
   "cell_type": "code",
   "execution_count": null,
   "id": "63c93296",
   "metadata": {},
   "outputs": [
    {
     "name": "stdout",
     "output_type": "stream",
     "text": [
      "226981\n",
      "(226981, 84)\n",
      "(226981, 5)\n",
      "(226981, 84)\n"
     ]
    }
   ],
   "source": [
    "normaldataset=pd.read_csv('./raw_data/normaldataset.csv')\n",
    "print(len(normaldataset))\n",
    "\n",
    "normal_x=normaldataset.values[:,:84]\n",
    "normal_x_pos=normaldataset.values[:,84:89]\n",
    "normal_y=normaldataset.values[:,89:]\n",
    "print(normal_x.shape)\n",
    "print(normal_x_pos.shape)\n",
    "print(normal_y.shape)\n",
    "# print(normal_x)\n",
    "# print(normal_x_pos)\n",
    "# print(normal_y)"
   ]
  },
  {
   "cell_type": "code",
   "execution_count": 23,
   "id": "80f6be72",
   "metadata": {},
   "outputs": [
    {
     "name": "stdout",
     "output_type": "stream",
     "text": [
      "[[ 5.83125026e+00  3.65624748e+00  9.93918564e-02 ...  9.48213125e-01\n",
      "   4.96607413e+00 -4.15721349e+00]\n",
      " [ 5.36307954e+00  4.56183726e+00 -5.83060517e-01 ...  2.19714316e+00\n",
      "   4.66425954e+00 -4.98289696e+00]\n",
      " [ 5.02953908e+00  5.00778032e+00 -9.89473665e-01 ...  3.12469030e+00\n",
      "   4.37253827e+00 -5.39194176e+00]\n",
      " ...\n",
      " [ 1.16941718e+02 -2.11213706e+02  5.27373636e+01 ...  6.05842090e+01\n",
      "  -8.20078784e+01  2.47492624e+00]\n",
      " [ 1.10777898e+02 -2.02616573e+02  5.94962885e+01 ...  5.84814467e+01\n",
      "  -7.97235642e+01  6.57018289e+00]\n",
      " [ 1.05018758e+02 -1.96106252e+02  6.42293910e+01 ...  5.65017838e+01\n",
      "  -7.84660741e+01  1.06047875e+01]]\n"
     ]
    }
   ],
   "source": [
    "print(normal_x)"
   ]
  },
  {
   "cell_type": "code",
   "execution_count": 24,
   "id": "c0b3449a",
   "metadata": {},
   "outputs": [
    {
     "name": "stdout",
     "output_type": "stream",
     "text": [
      "[[ -3.  -10.   -3.    0.    0. ]\n",
      " [ -3.  -10.   -2.9   0.    0. ]\n",
      " [ -3.  -10.   -2.8   0.    0. ]\n",
      " ...\n",
      " [  3.   -4.    2.8   0.    0. ]\n",
      " [  3.   -4.    2.9   0.    0. ]\n",
      " [  3.   -4.    3.    0.    0. ]]\n"
     ]
    }
   ],
   "source": [
    "print(normal_x_pos)"
   ]
  },
  {
   "cell_type": "code",
   "execution_count": 25,
   "id": "fec24e2d",
   "metadata": {},
   "outputs": [
    {
     "name": "stdout",
     "output_type": "stream",
     "text": [
      "[[0. 0. 0. ... 0. 0. 0.]\n",
      " [0. 0. 0. ... 0. 0. 0.]\n",
      " [0. 0. 0. ... 0. 0. 0.]\n",
      " ...\n",
      " [0. 0. 0. ... 0. 0. 0.]\n",
      " [0. 0. 0. ... 0. 0. 0.]\n",
      " [0. 0. 0. ... 0. 0. 0.]]\n"
     ]
    }
   ],
   "source": [
    "print(normal_y)"
   ]
  },
  {
   "cell_type": "code",
   "execution_count": null,
   "id": "6e69d5f5",
   "metadata": {},
   "outputs": [
    {
     "name": "stdout",
     "output_type": "stream",
     "text": [
      "(637, 84)\n",
      "(637, 5)\n"
     ]
    }
   ],
   "source": [
    "normalrefdata=pd.read_csv('./raw_data/normalrefdata.csv')\n",
    "x_groundtruth=normalrefdata.values[:,:84]\n",
    "x_groundtruth_pos=normalrefdata.values[:,84:89]\n",
    "print(x_groundtruth.shape)\n",
    "print(x_groundtruth_pos.shape)"
   ]
  },
  {
   "cell_type": "code",
   "execution_count": 28,
   "id": "242ddab5",
   "metadata": {},
   "outputs": [
    {
     "name": "stdout",
     "output_type": "stream",
     "text": [
      "[[ -65.74166436    5.17083412 -374.87821983 ...  -25.30833375\n",
      "   -19.27083304 -249.7103665 ]\n",
      " [  -2.44166512   -0.97916359  -10.91016792 ...   -2.50833404\n",
      "    -2.62083342   -9.64639021]\n",
      " [ -18.34166665  -38.77916283 -193.86215232 ...   -3.40833414\n",
      "   -17.4708338   -97.49237944]\n",
      " ...\n",
      " [  -1.3687505    12.80625282   -4.49860772 ...   -2.05178688\n",
      "     6.76607336   -4.88321142]\n",
      " [   5.98124988    8.15624748   -1.83660706 ...    1.69821387\n",
      "     6.16607107   -2.70521383]\n",
      " [   6.58125026    5.45625053   -0.38460549 ...    2.2982147\n",
      "     6.16607107   -2.94721441]]\n"
     ]
    }
   ],
   "source": [
    "print(x_groundtruth)"
   ]
  },
  {
   "cell_type": "code",
   "execution_count": 29,
   "id": "e0bb40bc",
   "metadata": {},
   "outputs": [
    {
     "name": "stdout",
     "output_type": "stream",
     "text": [
      "[[  0.  -4.   0.   0.   0.]\n",
      " [  2. -10.   0.   0.   0.]\n",
      " [  2.  -5.   0.   0.   0.]\n",
      " ...\n",
      " [  3. -10.  -3.   0.   0.]\n",
      " [ -1. -10.  -3.   0.   0.]\n",
      " [ -2. -10.  -3.   0.   0.]]\n"
     ]
    }
   ],
   "source": [
    "print(x_groundtruth_pos)"
   ]
  },
  {
   "cell_type": "markdown",
   "id": "fa8fc8fd",
   "metadata": {},
   "source": [
    "数据集样本(x,label,x_tilde),x为N,C的矩阵，N=28，C=3，表示观测到的异常矩阵；label为N，C的矩阵，表示数值是否异常,1为异常，0为正常；x_tilde为N，C的矩阵，表示x的真实值矩阵"
   ]
  },
  {
   "cell_type": "code",
   "execution_count": 49,
   "id": "64f368d0",
   "metadata": {},
   "outputs": [
    {
     "name": "stdout",
     "output_type": "stream",
     "text": [
      "[0, 1, 2, 3, 4, 5, 6, 7, 8, 9, 10, 11, 12, 13, 14, 15, 16, 17, 18, 19, 20, 21, 22, 23, 24, 25, 26, 27, 28, 29, 30, 31, 32, 33, 34, 35, 36, 37, 38, 39, 40, 41, 42, 43, 44, 45, 46, 47, 48, 49, 50, 51, 52, 53, 54, 55, 56, 57, 58, 59, 60, 61, 62, 63, 64, 65, 66, 67, 68, 69, 70, 71, 72, 73, 74, 75, 76, 77, 78, 79, 80, 81, 82, 83, 84, 85, 86, 87, 88, 89, 90, 91, 92, 93, 94, 95, 96, 97, 98, 99, 100, 101, 102, 103, 104, 105, 106, 107, 108, 109, 110, 111, 112, 113, 114, 115, 116, 117, 118, 119, 120, 121, 122, 123, 124, 125, 126, 127, 128, 129, 130, 131, 132, 133, 134, 135, 136, 137, 138, 139, 140, 141, 142, 143, 144, 145, 146, 147, 148, 149, 150, 151, 152, 153, 154, 155, 156, 157, 158, 159, 160, 161, 162, 163, 164, 165, 166, 167, 168, 169, 170, 171, 172, 173, 174, 175, 176, 177, 178, 179, 180, 181, 182, 183, 184, 185, 186, 187, 188, 189, 190, 191, 192, 193, 194, 195, 196, 197, 198, 199, 200, 201, 202, 203, 204, 205, 206, 207, 208, 209, 210, 211, 212, 213, 214, 215, 216, 217, 218, 219, 220, 221, 222, 223, 224, 225, 226, 227, 228, 229, 230, 231, 232, 233, 234, 235, 236, 237, 238, 239, 240, 241, 242, 243, 244, 245, 246, 247, 248, 249, 250, 251, 252, 253, 254, 255, 256, 257, 258, 259, 260, 261, 262, 263, 264, 265, 266, 267, 268, 269, 270, 271, 272, 273, 274, 275, 276, 277, 278, 279, 280, 281, 282, 283, 284, 285, 286, 287, 288, 289, 290, 291, 292, 293, 294, 295, 296, 297, 298, 299, 300, 301, 302, 303, 304, 305, 306, 307, 308, 309, 310, 311, 312, 313, 314, 315, 316, 317, 318, 319, 320, 321, 322, 323, 324, 325, 326, 327, 328, 329, 330, 331, 332, 333, 334, 335, 336, 337, 338, 339, 340, 341, 342, 343, 344, 345, 346, 347, 348, 349, 350, 351, 352, 353, 354, 355, 356, 357, 358, 359, 360, 361, 362, 363, 364, 365, 366, 367, 368, 369, 370, 371, 372, 373, 374, 375, 376, 377, 378, 379, 380, 381, 382, 383, 384, 385, 386, 387, 388, 389, 390, 391, 392, 393, 394, 395, 396, 397, 398, 399, 400, 401, 402, 403, 404, 405, 406, 407, 408, 409, 410, 411, 412, 413, 414, 415, 416, 417, 418, 419, 420, 421, 422, 423, 424, 425, 426, 427, 428, 429, 430, 431, 432, 433, 434, 435, 436, 437, 438, 439, 440, 441, 442, 443, 444, 445, 446, 447, 448, 449, 450, 451, 452, 453, 454, 455, 456, 457, 458, 459, 460, 461, 462, 463, 464, 465, 466, 467, 468, 469, 470, 471, 472, 473, 474, 475, 476, 477, 478, 479, 480, 481, 482, 483, 484, 485, 486, 487, 488, 489, 490, 491, 492, 493, 494, 495, 496, 497, 498, 499, 500, 501, 502, 503, 504, 505, 506, 507, 508, 509, 510, 511, 512, 513, 514, 515, 516, 517, 518, 519, 520, 521, 522, 523, 524, 525, 526, 527, 528, 529, 530, 531, 532, 533, 534, 535, 536, 537, 538, 539, 540, 541, 542, 543, 544, 545, 546, 547, 548, 549, 550, 551, 552, 553, 554, 555, 556, 557, 558, 559, 560, 561, 562, 563, 564, 565, 566, 567, 568, 569, 570, 571, 572, 573, 574, 575, 576, 577, 578, 579, 580, 581, 582, 583, 584, 585, 586, 587, 588, 589, 590, 591, 592, 593, 594, 595, 596, 597, 598, 599, 600, 601, 602, 603, 604, 605, 606, 607, 608, 609, 610, 611, 612, 613, 614, 615, 616, 617, 618, 619, 620, 621, 622, 623, 624, 625, 626, 627, 628, 629, 630, 631, 632, 633, 634, 635, 636]\n"
     ]
    }
   ],
   "source": [
    "index_list=normalrefdata.index.tolist()\n",
    "print(index_list)"
   ]
  },
  {
   "cell_type": "code",
   "execution_count": 50,
   "id": "ccfd78de",
   "metadata": {},
   "outputs": [],
   "source": [
    "import numpy as np\n",
    "data_dict={}\n",
    "for i in range(637):\n",
    "    data_dict[i]={}\n",
    "    data_dict[i]['x_data']=[]\n",
    "    data_dict[i]['label_data']=[]\n",
    "    data_dict[i]['x_tilde']=[]\n",
    "    \n",
    "def search_x_tilde(x_pos_data,x_groundtruth):\n",
    "    magnet_x=x_pos_data[0]\n",
    "    magnet_y=x_pos_data[1]\n",
    "    magnet_z=x_pos_data[2]\n",
    "    match_x_tilde=x_groundtruth[(x_groundtruth['magnet_x'] == magnet_x) &\n",
    "                                (x_groundtruth['magnet_y'] == magnet_y) &\n",
    "                                (x_groundtruth['magnet_z'] == magnet_z)]\n",
    "    index=match_x_tilde.index\n",
    "    if match_x_tilde.shape[0]==1:\n",
    "        match_x_tilde=match_x_tilde.values[0,:84]\n",
    "    else:\n",
    "        print('error')\n",
    "        return None\n",
    "    return match_x_tilde,index\n",
    "\n",
    "for row_data in noise_dataset.values:\n",
    "    x_data_item=row_data[:84]\n",
    "    x_pos_data_item=row_data[84:87]\n",
    "    y_data_item=row_data[89:]\n",
    "    x_tilde_item,index=search_x_tilde(x_pos_data_item,normalrefdata)\n",
    "    data_dict[index.values[0]]['x_data'].append(x_data_item)\n",
    "    data_dict[index.values[0]]['label_data'].append(y_data_item)\n",
    "    data_dict[index.values[0]]['x_tilde'].append(x_tilde_item)"
   ]
  },
  {
   "cell_type": "code",
   "execution_count": 61,
   "id": "0b72aad2",
   "metadata": {},
   "outputs": [
    {
     "name": "stdout",
     "output_type": "stream",
     "text": [
      "(1728, 84)\n"
     ]
    }
   ],
   "source": [
    "# all_data=[x_data,label_data,x_tilde]\n",
    "# import pickle as pk\n",
    "# with open('processed_dataset/all_data.pkl','wb') as fb:\n",
    "#     pk.dump(all_data,fb)\n",
    "x_data,label_data,x_tilde=[],[],[]\n",
    "for key,value in data_dict.items():\n",
    "    print(value['x_data'].shape)\n",
    "    break"
   ]
  },
  {
   "cell_type": "code",
   "execution_count": 56,
   "id": "748b76dd",
   "metadata": {},
   "outputs": [
    {
     "name": "stdout",
     "output_type": "stream",
     "text": [
      "(770133, 84) (770133, 84) (770133, 84)\n",
      "(109564, 84) (109564, 84) (109564, 84)\n",
      "(221039, 84) (221039, 84) (221039, 84)\n"
     ]
    }
   ],
   "source": [
    "N=1728\n",
    "\n",
    "indices=np.random.permutation(N)\n",
    "\n",
    "n_train=int(N*0.7)\n",
    "n_valid=int(N*0.1)\n",
    "n_test=int(N*0.2)\n",
    "\n",
    "train_x_data,train_label_data,train_x_tilde=[],[],[]\n",
    "valid_x_data,valid_label_data,valid_x_tilde=[],[],[]\n",
    "test_x_data,test_label_data,test_x_tilde=[],[],[]\n",
    "\n",
    "for key,value in data_dict.items():\n",
    "    train_indices=indices[:n_train]\n",
    "    valid_indices=indices[n_train:n_train+n_valid]\n",
    "    test_indices=indices[n_train+n_valid:]\n",
    "    value['x_data']=np.array(value['x_data'])\n",
    "    value['label_data']=np.array(value['label_data'])\n",
    "    value['x_tilde']=np.array(value['x_tilde'])\n",
    "    train_x_data.extend(value['x_data'][train_indices])\n",
    "    train_label_data.extend(value['label_data'][train_indices])\n",
    "    train_x_tilde.extend(value['x_tilde'][train_indices])\n",
    "    valid_x_data.extend(value['x_data'][valid_indices])\n",
    "    valid_label_data.extend(value['label_data'][valid_indices])\n",
    "    valid_x_tilde.extend(value['x_tilde'][valid_indices])\n",
    "    test_x_data.extend(value['x_data'][test_indices])\n",
    "    test_label_data.extend(value['label_data'][test_indices])\n",
    "    test_x_tilde.extend(value['x_tilde'][test_indices])\n",
    "train_x_data=np.array(train_x_data)\n",
    "train_label_data=np.array(train_label_data)\n",
    "train_x_tilde=np.array(train_x_tilde)\n",
    "valid_x_data=np.array(valid_x_data)\n",
    "valid_label_data=np.array(valid_label_data)\n",
    "valid_x_tilde=np.array(valid_x_tilde)\n",
    "test_x_data=np.array(test_x_data)\n",
    "test_label_data=np.array(test_label_data)\n",
    "test_x_tilde=np.array(test_x_tilde)\n",
    "print(train_x_data.shape,train_label_data.shape,train_x_tilde.shape)\n",
    "print(valid_x_data.shape,valid_label_data.shape,valid_x_tilde.shape)\n",
    "print(test_x_data.shape,test_label_data.shape,test_x_tilde.shape)\n",
    "\n"
   ]
  },
  {
   "cell_type": "code",
   "execution_count": 57,
   "id": "8c532593",
   "metadata": {},
   "outputs": [
    {
     "name": "stdout",
     "output_type": "stream",
     "text": [
      "number of train samples:  1209\n",
      "number of valid samples:  172\n",
      "number of test samples:  347\n"
     ]
    }
   ],
   "source": [
    "import pickle as pk\n",
    "\n",
    "train_data=[train_x_data,train_label_data,train_x_tilde]\n",
    "valid_data=[valid_x_data,valid_label_data,valid_x_tilde]\n",
    "test_data=[test_x_data,test_label_data,test_x_tilde]\n",
    "\n",
    "with open('processed_dataset/train.pkl','wb') as fb:\n",
    "    pk.dump(train_data,fb)\n",
    "with open('processed_dataset/valid.pkl','wb') as fb:\n",
    "    pk.dump(valid_data,fb)\n",
    "with open('processed_dataset/test.pkl','wb') as fb:\n",
    "    pk.dump(test_data,fb)\n",
    "    \n"
   ]
  },
  {
   "cell_type": "code",
   "execution_count": 58,
   "id": "024a65d4",
   "metadata": {},
   "outputs": [
    {
     "name": "stdout",
     "output_type": "stream",
     "text": [
      "number of train samples:  770133\n",
      "number of valid samples:  109564\n",
      "number of test samples:  221039\n"
     ]
    }
   ],
   "source": [
    "print(\"number of train samples: \",len(train_x_data))\n",
    "print(\"number of valid samples: \",len(valid_x_data))\n",
    "print(\"number of test samples: \",len(test_x_data))"
   ]
  },
  {
   "cell_type": "code",
   "execution_count": 60,
   "id": "67df4137",
   "metadata": {},
   "outputs": [
    {
     "name": "stdout",
     "output_type": "stream",
     "text": [
      "(770133, 84) (770133, 84) (770133, 84)\n",
      "(109564, 84) (109564, 84) (109564, 84)\n",
      "(221039, 84) (221039, 84) (221039, 84)\n"
     ]
    }
   ],
   "source": [
    "train_data=pk.load(open('processed_dataset/train.pkl','rb'))\n",
    "valid_data=pk.load(open('processed_dataset/valid.pkl','rb'))\n",
    "test_data=pk.load(open('processed_dataset/test.pkl','rb'))\n",
    "print(train_data[0].shape,train_data[1].shape,train_data[2].shape)\n",
    "print(valid_data[0].shape,valid_data[1].shape,valid_data[2].shape)\n",
    "print(test_data[0].shape,test_data[1].shape,test_data[2].shape)"
   ]
  },
  {
   "cell_type": "code",
   "execution_count": 12,
   "id": "5095936b",
   "metadata": {},
   "outputs": [
    {
     "name": "stdout",
     "output_type": "stream",
     "text": [
      "(366275, 84) (366275, 84) (366275, 84)\n"
     ]
    }
   ],
   "source": [
    "import pandas as pd\n",
    "import pickle as pk\n",
    "import numpy as np\n",
    "\n",
    "alltest=pd.read_csv('./raw_data/alltest.csv')\n",
    "\n",
    "# alltest_x=alltest.values[:,:84]\n",
    "# alltest_x_pos=alltest.values[:,84:87]\n",
    "# alltest_label=alltest.values[:,89:]\n",
    "# print(alltest_x.shape,alltest_label.shape,alltest_x_tilde.shape)\n",
    "\n",
    "normalrefdata=pd.read_csv('./raw_data/normalrefdata.csv')\n",
    "\n",
    "def search_x_tilde(x_pos_data,x_groundtruth):\n",
    "    magnet_x=x_pos_data[0]\n",
    "    magnet_y=x_pos_data[1]\n",
    "    magnet_z=x_pos_data[2]\n",
    "    match_x_tilde=x_groundtruth[(x_groundtruth['magnet_x'] == magnet_x) &\n",
    "                                (x_groundtruth['magnet_y'] == magnet_y) &\n",
    "                                (x_groundtruth['magnet_z'] == magnet_z)]\n",
    "    # index=match_x_tilde.index\n",
    "    if match_x_tilde.shape[0]==1:\n",
    "        match_x_tilde=match_x_tilde.values[0,:84]\n",
    "    else:\n",
    "        print('error')\n",
    "        return None\n",
    "    return match_x_tilde\n",
    "\n",
    "\n",
    "all_test_x_data,all_test_label_data,all_test_x_tilde=[],[],[]\n",
    "for row_data in alltest.values:\n",
    "    x_data_item=row_data[:84]\n",
    "    x_pos_data_item=row_data[84:87]\n",
    "    y_data_item=row_data[89:]\n",
    "    x_tilde_item=search_x_tilde(x_pos_data_item,normalrefdata)\n",
    "    all_test_x_data.append(x_data_item)\n",
    "    all_test_label_data.append(y_data_item)\n",
    "    all_test_x_tilde.append(x_tilde_item)\n",
    "all_test_x_data=np.array(all_test_x_data)\n",
    "all_test_label_data=np.array(all_test_label_data)\n",
    "all_test_x_tilde=np.array(all_test_x_tilde)\n",
    "print(all_test_x_data.shape,all_test_label_data.shape,all_test_x_tilde.shape)"
   ]
  },
  {
   "cell_type": "code",
   "execution_count": 13,
   "id": "886326e5",
   "metadata": {},
   "outputs": [],
   "source": [
    "all_test_data=[all_test_x_data,all_test_label_data,all_test_x_tilde]\n",
    "with open('processed_dataset/all_test.pkl','wb') as fb:\n",
    "    pk.dump(all_test_data,fb)\n"
   ]
  },
  {
   "cell_type": "code",
   "execution_count": 14,
   "id": "75ad5fbc",
   "metadata": {},
   "outputs": [
    {
     "name": "stdout",
     "output_type": "stream",
     "text": [
      "(183456, 84) (183456, 84) (183456, 84)\n"
     ]
    }
   ],
   "source": [
    "hardiron_test=pd.read_csv('./raw_data/hardiron_test.csv')\n",
    "# print(len(hardiron_test))\n",
    "\n",
    "hardiron_test_x_data,hardiron_test_label_data,hardiron_test_x_tilde=[],[],[]\n",
    "for row_data in hardiron_test.values:\n",
    "    x_data_item=row_data[:84]\n",
    "    x_pos_data_item=row_data[84:87]\n",
    "    y_data_item=row_data[89:]\n",
    "    x_tilde_item=search_x_tilde(x_pos_data_item,normalrefdata)\n",
    "    hardiron_test_x_data.append(x_data_item)\n",
    "    hardiron_test_label_data.append(y_data_item)\n",
    "    hardiron_test_x_tilde.append(x_tilde_item)\n",
    "hardiron_test_x_data=np.array(hardiron_test_x_data)\n",
    "hardiron_test_label_data=np.array(hardiron_test_label_data)\n",
    "hardiron_test_x_tilde=np.array(hardiron_test_x_tilde)\n",
    "print(hardiron_test_x_data.shape,hardiron_test_label_data.shape,hardiron_test_x_tilde.shape)"
   ]
  },
  {
   "cell_type": "code",
   "execution_count": 15,
   "id": "181fd356",
   "metadata": {},
   "outputs": [],
   "source": [
    "hardiron_test_data=[hardiron_test_x_data,hardiron_test_label_data,hardiron_test_x_tilde]\n",
    "with open('processed_dataset/hardiron_test.pkl','wb') as fb:\n",
    "    pk.dump(hardiron_test_data,fb)"
   ]
  },
  {
   "cell_type": "code",
   "execution_count": 16,
   "id": "1a63dba8",
   "metadata": {},
   "outputs": [
    {
     "name": "stdout",
     "output_type": "stream",
     "text": [
      "(182819, 84) (182819, 84) (182819, 84)\n"
     ]
    }
   ],
   "source": [
    "softiron_test=pd.read_csv('./raw_data/softiron_test.csv')\n",
    "# print(len(softiron_test))\n",
    "\n",
    "softiron_test_x_data,softiron_test_label_data,softiron_test_x_tilde=[],[],[]\n",
    "for row_data in softiron_test.values:\n",
    "    x_data_item=row_data[:84]\n",
    "    x_pos_data_item=row_data[84:87]\n",
    "    y_data_item=row_data[89:]\n",
    "    x_tilde_item=search_x_tilde(x_pos_data_item,normalrefdata)\n",
    "    softiron_test_x_data.append(x_data_item)\n",
    "    softiron_test_label_data.append(y_data_item)\n",
    "    softiron_test_x_tilde.append(x_tilde_item)\n",
    "softiron_test_x_data=np.array(softiron_test_x_data)\n",
    "softiron_test_label_data=np.array(softiron_test_label_data)\n",
    "softiron_test_x_tilde=np.array(softiron_test_x_tilde)\n",
    "print(softiron_test_x_data.shape,softiron_test_label_data.shape,softiron_test_x_tilde.shape)\n"
   ]
  },
  {
   "cell_type": "code",
   "execution_count": null,
   "id": "4002967f",
   "metadata": {},
   "outputs": [
    {
     "ename": "",
     "evalue": "",
     "output_type": "error",
     "traceback": [
      "\u001b[1;31m在当前单元格或上一个单元格中执行代码时 Kernel 崩溃。\n",
      "\u001b[1;31m请查看单元格中的代码，以确定故障的可能原因。\n",
      "\u001b[1;31m单击<a href='https://aka.ms/vscodeJupyterKernelCrash'>此处</a>了解详细信息。\n",
      "\u001b[1;31m有关更多详细信息，请查看 Jupyter <a href='command:jupyter.viewOutput'>log</a>。"
     ]
    }
   ],
   "source": [
    "softiron_test_data=[softiron_test_x_data,softiron_test_label_data,softiron_test_x_tilde]\n",
    "with open('processed_dataset/softiron_test.pkl','wb') as fb:\n",
    "    pk.dump(softiron_test_data,fb)"
   ]
  },
  {
   "cell_type": "markdown",
   "id": "e64086f7",
   "metadata": {},
   "source": [
    "train_data: 训练数据\n",
    "test_data: 测试数据\n",
    "harditron_test_data, softiron_test_data: 测试数据\n",
    "样本：(X,label,X_tilde), X表示观测的异常样本，label标识观测值是否异常，X_tilde表示X对应的正常样本(Groundtruth)"
   ]
  },
  {
   "cell_type": "code",
   "execution_count": 2,
   "id": "6021b5e3",
   "metadata": {},
   "outputs": [
    {
     "name": "stdout",
     "output_type": "stream",
     "text": [
      "(1100736, 84) (1100736, 84) (1100736, 84)\n",
      "(366275, 84) (366275, 84) (366275, 84)\n"
     ]
    }
   ],
   "source": [
    "train_data=pk.load(open('processed_dataset/train_data.pkl','rb'))\n",
    "test_data=pk.load(open('processed_dataset/test_data.pkl','rb'))\n",
    "print(train_data[0].shape,train_data[1].shape,train_data[2].shape)\n",
    "print(test_data[0].shape,test_data[1].shape,test_data[2].shape)"
   ]
  },
  {
   "cell_type": "code",
   "execution_count": 3,
   "id": "9d648847",
   "metadata": {},
   "outputs": [
    {
     "name": "stdout",
     "output_type": "stream",
     "text": [
      "(183456, 84) (183456, 84) (183456, 84)\n",
      "(182819, 84) (182819, 84) (182819, 84)\n"
     ]
    }
   ],
   "source": [
    "hardiron_test_data=pk.load(open('processed_dataset/hardiron_test.pkl','rb'))\n",
    "print(hardiron_test_data[0].shape,hardiron_test_data[1].shape,hardiron_test_data[2].shape)\n",
    "softiron_test_data=pk.load(open('processed_dataset/softiron_test.pkl','rb'))\n",
    "print(softiron_test_data[0].shape,softiron_test_data[1].shape,softiron_test_data[2].shape)"
   ]
  },
  {
   "cell_type": "code",
   "execution_count": 2,
   "id": "aebf0853",
   "metadata": {},
   "outputs": [
    {
     "name": "stdout",
     "output_type": "stream",
     "text": [
      "len(train_dataloader):  27519\n",
      "len(valid_dataloader):  6880\n",
      "len(test_dataloader):  11447\n"
     ]
    }
   ],
   "source": [
    "from dataloader.data_provider import *\n",
    "\n",
    "train_dataloader=get_dataloader('processed_dataset/',mode=\"train\",batch_size=32)\n",
    "valid_dataloader=get_dataloader('processed_dataset/',mode=\"val\",batch_size=32)\n",
    "test_dataloader=get_dataloader('processed_dataset/',mode=\"test\",batch_size=32)\n",
    "\n",
    "print(\"len(train_dataloader): \",len(train_dataloader))\n",
    "print(\"len(valid_dataloader): \",len(valid_dataloader))\n",
    "print(\"len(test_dataloader): \",len(test_dataloader))"
   ]
  },
  {
   "cell_type": "code",
   "execution_count": 4,
   "id": "d8b02bca",
   "metadata": {},
   "outputs": [
    {
     "name": "stdout",
     "output_type": "stream",
     "text": [
      "torch.Size([32, 84]) torch.Size([32, 84]) torch.Size([32, 84])\n"
     ]
    }
   ],
   "source": [
    "for _,batch_data in enumerate(train_dataloader):\n",
    "    x,label,x_tilde=batch_data\n",
    "    break\n",
    "print(x.shape,label.shape,x_tilde.shape)"
   ]
  }
 ],
 "metadata": {
  "kernelspec": {
   "display_name": "torch3090",
   "language": "python",
   "name": "python3"
  },
  "language_info": {
   "codemirror_mode": {
    "name": "ipython",
    "version": 3
   },
   "file_extension": ".py",
   "mimetype": "text/x-python",
   "name": "python",
   "nbconvert_exporter": "python",
   "pygments_lexer": "ipython3",
   "version": "3.8.13"
  }
 },
 "nbformat": 4,
 "nbformat_minor": 5
}
