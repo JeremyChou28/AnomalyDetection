{
 "cells": [
  {
   "cell_type": "code",
   "execution_count": 1,
   "id": "b1094fb0",
   "metadata": {},
   "outputs": [
    {
     "name": "stdout",
     "output_type": "stream",
     "text": [
      "------------ Options -------------\n",
      "anormly_ratio: 0.5\n",
      "batch_size: 64\n",
      "data_path: ./processed_dataset/\n",
      "dataset: AD\n",
      "input_c: 1\n",
      "k: 3\n",
      "lr: 0.0001\n",
      "mode: test\n",
      "model_save_path: checkpoints\n",
      "num_epochs: 10\n",
      "output_c: 1\n",
      "pretrained_model: None\n",
      "win_size: 84\n",
      "-------------- End ----------------\n",
      "======================TEST MODE======================\n"
     ]
    },
    {
     "name": "stderr",
     "output_type": "stream",
     "text": [
      "/home/zhoujianping/miniconda3/envs/torch3090/lib/python3.8/site-packages/torch/nn/_reduction.py:42: UserWarning: size_average and reduce args will be deprecated, please use reduction='none' instead.\n",
      "  warnings.warn(warning.format(ret))\n",
      "\n",
      "KeyboardInterrupt\n",
      "\n"
     ]
    }
   ],
   "source": [
    "import os\n",
    "import argparse\n",
    "\n",
    "from torch.backends import cudnn\n",
    "from utils.utils import *\n",
    "\n",
    "from solver import Solver\n",
    "\n",
    "\n",
    "def str2bool(v):\n",
    "    return v.lower() in ('true')\n",
    "\n",
    "\n",
    "def main(config):\n",
    "    cudnn.benchmark = True\n",
    "    if (not os.path.exists(config.model_save_path)):\n",
    "        mkdir(config.model_save_path)\n",
    "    solver = Solver(vars(config))\n",
    "\n",
    "    if config.mode == 'train':\n",
    "        solver.train()\n",
    "    elif config.mode == 'test':\n",
    "        solver.test()\n",
    "\n",
    "    return solver\n",
    "\n",
    "\n",
    "if __name__ == '__main__':\n",
    "    parser = argparse.ArgumentParser()\n",
    "\n",
    "    parser.add_argument('--lr', type=float, default=1e-4)\n",
    "    parser.add_argument('--num_epochs', type=int, default=10)\n",
    "    parser.add_argument('--k', type=int, default=3)\n",
    "    parser.add_argument('--win_size', type=int, default=84)\n",
    "    parser.add_argument('--input_c', type=int, default=1)\n",
    "    parser.add_argument('--output_c', type=int, default=1)\n",
    "    parser.add_argument('--batch_size', type=int, default=64)\n",
    "    parser.add_argument('--pretrained_model', type=str, default=None)\n",
    "    parser.add_argument('--dataset', type=str, default='AD')\n",
    "    parser.add_argument('--mode', type=str, default='test', choices=['train', 'test'])\n",
    "    parser.add_argument('--data_path', type=str, default='./processed_dataset/')\n",
    "    parser.add_argument('--model_save_path', type=str, default='checkpoints')\n",
    "    parser.add_argument('--anormly_ratio', type=float, default=0.5)\n",
    "\n",
    "    config = parser.parse_args(args=[])\n",
    "\n",
    "    args = vars(config)\n",
    "    print('------------ Options -------------')\n",
    "    for k, v in sorted(args.items()):\n",
    "        print('%s: %s' % (str(k), str(v)))\n",
    "    print('-------------- End ----------------')\n",
    "    main(config)\n"
   ]
  }
 ],
 "metadata": {
  "kernelspec": {
   "display_name": "torch3090",
   "language": "python",
   "name": "python3"
  },
  "language_info": {
   "codemirror_mode": {
    "name": "ipython",
    "version": 3
   },
   "file_extension": ".py",
   "mimetype": "text/x-python",
   "name": "python",
   "nbconvert_exporter": "python",
   "pygments_lexer": "ipython3",
   "version": "3.8.13"
  }
 },
 "nbformat": 4,
 "nbformat_minor": 5
}
